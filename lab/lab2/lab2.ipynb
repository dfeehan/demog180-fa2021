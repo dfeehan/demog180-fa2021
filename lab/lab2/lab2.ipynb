{
 "cells": [
  {
   "cell_type": "code",
   "execution_count": null,
   "id": "9edc514b",
   "metadata": {
    "deletable": false,
    "editable": false
   },
   "outputs": [],
   "source": [
    "# Initialize Otter\n",
    "import otter\n",
    "grader = otter.Notebook(\"lab2.ipynb\")"
   ]
  },
  {
   "cell_type": "code",
   "execution_count": 1,
   "id": "2ce75772",
   "metadata": {},
   "outputs": [],
   "source": [
    "!pip install --upgrade networkx"
   ]
  },
  {
   "cell_type": "code",
   "execution_count": 2,
   "id": "80826830",
   "metadata": {},
   "outputs": [],
   "source": [
    "from IPython.core.display import HTML\n",
    "from datascience import *\n",
    "\n",
    "import matplotlib\n",
    "matplotlib.use('Agg')\n",
    "import matplotlib.pyplot as plt\n",
    "import numpy as np\n",
    "import os\n",
    "import networkx as nx\n",
    "plt.style.use('fivethirtyeight')\n",
    "\n",
    "%matplotlib inline"
   ]
  },
  {
   "cell_type": "markdown",
   "id": "ef907ffd",
   "metadata": {
    "collapsed": true
   },
   "source": [
    "# Lab 2 (Part 1/2)"
   ]
  },
  {
   "cell_type": "markdown",
   "id": "b3d11065",
   "metadata": {},
   "source": [
    "# Working with complete network data"
   ]
  },
  {
   "cell_type": "markdown",
   "id": "89c6a441",
   "metadata": {},
   "source": [
    "To review, in our study of personal networks, we focused on individuals. Starting from a sample of individuals, we gathered information about other people connected to those individuals. \n",
    "\n",
    "Today, we will work with a different kind of network data, an entire population of individuals and all of the connections between them. I'll refer to this as the *complete network perspective*. The complete network perspective can be very useful, since it enables us to study how the actual structure of the network can affect important outcomes like the spread of a disease, information about job openings, and even social status.\n",
    "\n",
    "For almost any social network we study, we are interested in understanding the structure of the complete network. Unfortunately, it is typically extremely difficult to obtain complete network data. Most studies that have done so have put a tremendous amount of time, effort and resources into data collection.  Any time we analyze data---including complete network data---we have to bear in mind the strengths and limitations of the way that the data were collected."
   ]
  },
  {
   "cell_type": "markdown",
   "id": "ebc6f506",
   "metadata": {},
   "source": [
    "### The Add Health Study"
   ]
  },
  {
   "cell_type": "markdown",
   "id": "f60d0499",
   "metadata": {},
   "source": [
    "For our first complete network dataset, we're going to be looking at data from a study called [Add Health](http://www.cpc.unc.edu/projects/addhealth). Here is a description of the study, taken from the front page of the [Add Health website](http://www.cpc.unc.edu/projects/addhealth):\n",
    "\n",
    "<blockquote>\n",
    "The National Longitudinal Study of Adolescent to Adult Health (Add Health) is a longitudinal study of a nationally representative sample of adolescents in grades 7-12 in the United States during the 1994-95 school year. The Add Health cohort has been followed into young adulthood with four in-home interviews, the most recent in 2008, when the sample was aged 24-32. Add Health is re-interviewing cohort members in a Wave V follow-up from 2016-2018 to collect social, environmental, behavioral, and biological data with which to track the emergence of chronic disease as the cohort moves through their fourth decade of life.\n",
    "<BR><BR>\n",
    "Add Health combines longitudinal survey data on respondents’ social, economic, psychological and physical well-being with contextual data on the family, neighborhood, community, school, friendships, peer groups, and romantic relationships, providing unique opportunities to study how social environments and behaviors in adolescence are linked to health and achievement outcomes in young adulthood. The fourth wave of interviews expanded the collection of biological data in Add Health to understand the social, behavioral, and biological linkages in health trajectories as the Add Health cohort ages through adulthood, and the fifth wave of data collection continues this biological data expansion.\n",
    "</blockquote>"
   ]
  },
  {
   "cell_type": "markdown",
   "id": "9354bbb5",
   "metadata": {},
   "source": [
    "Here are some terms from that description that might not be familiar to you:\n",
    "\n",
    "* `longitudinal` - logitudinal studies follow people over time, instead of just interviewing people at one point in time\n",
    "* `cohort` - a group of people that is followed over time; for Add Health, the cohort is the group of people who were interviewed as 7-12th graders in 1994-95.\n",
    "* `nationally representative` - the participants in the study were chosen in a principled way that enables researchers to make inferences about the US population from the small number of people they interview"
   ]
  },
  {
   "cell_type": "markdown",
   "id": "42c888b7",
   "metadata": {},
   "source": [
    "Add Health interviewed adolescents in many different schools that were randomly sampled from all over the US. We're going to work with the data from the friendship network of students in just one of those schools today."
   ]
  },
  {
   "cell_type": "markdown",
   "id": "e1be2fa0",
   "metadata": {},
   "source": [
    "Now that we have some background, we'll need to talk a bit about some of the technical details that go into working with complete network data."
   ]
  },
  {
   "cell_type": "markdown",
   "id": "4d82ad86",
   "metadata": {},
   "source": [
    "# Representing a network in a computer"
   ]
  },
  {
   "cell_type": "markdown",
   "id": "22ea2d87",
   "metadata": {},
   "source": [
    "<!-- BEGIN QUESTION -->\n",
    "\n",
    "## Question 1:\n",
    "How can we turn a network -- which we have been thinking of an abstract concept -- into something concrete that we can store and manipulate in a computer? What information do we need to be able to describe everything about a network? What are the advantages and disadvantages of the different solutions you can think of?"
   ]
  },
  {
   "cell_type": "markdown",
   "id": "1eaa16e1",
   "metadata": {},
   "source": [
    "_Type your answer here, replacing this text._"
   ]
  },
  {
   "cell_type": "markdown",
   "id": "02048bf8",
   "metadata": {},
   "source": [
    "<!-- END QUESTION -->\n",
    "\n",
    "### Loading a complete network"
   ]
  },
  {
   "cell_type": "markdown",
   "id": "bcbdf4fe",
   "metadata": {},
   "source": [
    "We will be exploring friendships from an American school; the data can be found at [http://moreno.ss.uci.edu/data.html#adhealth](http://moreno.ss.uci.edu/data.html#adhealth)."
   ]
  },
  {
   "cell_type": "markdown",
   "id": "b38c05c1",
   "metadata": {},
   "source": [
    "The data are in [UCI format](https://gephi.org/users/supported-graph-formats/ucinet-dl-format/). [UCI](https://sites.google.com/site/ucinetsoftware/home) is a tool that can be used to perform all sorts of network analysis. We won't be using UCI in this class, but you might come across it in future classes. For now, we're interested in some of the data that are included with UCI. These UCI datasets contain edge lists which the Python package `networkx` can read in."
   ]
  },
  {
   "cell_type": "markdown",
   "id": "75c78352",
   "metadata": {},
   "source": [
    "The code below opens up the data file, but just reads it as lines of text (instead of interpreting the lines of text as a description of a network).<BR>\n",
    "\n",
    "Run the code chunk below, and take a look at its output."
   ]
  },
  {
   "cell_type": "code",
   "execution_count": 3,
   "id": "0e886bd3",
   "metadata": {},
   "outputs": [],
   "source": [
    "os.getcwd()"
   ]
  },
  {
   "cell_type": "code",
   "execution_count": 4,
   "id": "9a6c7913",
   "metadata": {},
   "outputs": [],
   "source": [
    "# this file was downloaded from\n",
    "# http://moreno.ss.uci.edu/data.html#adhealth\n",
    "edge_file = os.path.join(\"data\", \"comm1.dat\")\n",
    "with open(edge_file, 'r') as f:\n",
    "    edge_lines = f.readlines()"
   ]
  },
  {
   "cell_type": "code",
   "execution_count": 5,
   "id": "fdfcdf65",
   "metadata": {},
   "outputs": [],
   "source": [
    "edge_lines"
   ]
  },
  {
   "cell_type": "markdown",
   "id": "46673397",
   "metadata": {},
   "source": [
    "Note that it looks like there are 4 extraneous lines at the top of the file before the edge list starts. Fortunately, the `networkx` package is smart enough to skip these four lines. "
   ]
  },
  {
   "cell_type": "markdown",
   "id": "5bc72396",
   "metadata": {},
   "source": [
    "Each line of the dataset has three numbers on it. The first two numbers are the nodes representing the end point of the respective edges, while the third number indicates the edge of each weight.\n",
    "*[Hint: In order to understand how the data are formatted, read the \"Description\" section of the [website](http://moreno.ss.uci.edu/data.html#adhealth) where the data can be downloaded.]*\n",
    "\n"
   ]
  },
  {
   "cell_type": "markdown",
   "id": "20ce0daf",
   "metadata": {},
   "source": [
    "In order to convert the edgelist contained in the datafile into a `networkx` object, we use the `nx.parse_edgelist` function:"
   ]
  },
  {
   "cell_type": "code",
   "execution_count": 6,
   "id": "c677775f",
   "metadata": {},
   "outputs": [],
   "source": [
    "g = nx.parse_edgelist(edge_lines, nodetype=int, data=[('activity_level', float)])"
   ]
  },
  {
   "cell_type": "markdown",
   "id": "cf2fe681",
   "metadata": {},
   "source": [
    "'g' is now a network object. And we will be working with g from now on.\n",
    "\n",
    "You can see some more information about how this function works by looking at the help file:"
   ]
  },
  {
   "cell_type": "code",
   "execution_count": 7,
   "id": "8a41edd7",
   "metadata": {},
   "outputs": [],
   "source": [
    "nx.parse_edgelist?"
   ]
  },
  {
   "cell_type": "markdown",
   "id": "8cab2da9",
   "metadata": {},
   "source": [
    "In addition to the lines from the datafile, we also passed a couple other arguments to the `parse_edgelist` function. They are:\n",
    "\n",
    "* `nodetype` - specifies the Python type used to represent each node. We have integer ids, so we use `int` here\n",
    "* `data` - describes any extra information about each edge that is contained in the edge list; in our case, there is a floating point value that describes the amount of interaction an edge represents. See the [data description](http://moreno.ss.uci.edu/data.html#adhealth) and the `parse_edgelist` help file for more information"
   ]
  },
  {
   "cell_type": "markdown",
   "id": "653ff1bc",
   "metadata": {},
   "source": [
    "Now that we have read our edgelist into a `networkx` object, we can start to investigate this network.\n",
    "\n",
    "For example, we can list the edges in the network:"
   ]
  },
  {
   "cell_type": "code",
   "execution_count": 8,
   "id": "34d67ae9",
   "metadata": {
    "scrolled": true
   },
   "outputs": [],
   "source": [
    "g.edges()"
   ]
  },
  {
   "cell_type": "code",
   "execution_count": 9,
   "id": "bc18b1ad",
   "metadata": {
    "scrolled": true
   },
   "outputs": [],
   "source": [
    "g.edges(data=True)"
   ]
  },
  {
   "cell_type": "markdown",
   "id": "1245d43a",
   "metadata": {},
   "source": [
    "## Question 2:\n",
    "How many edges are in the network? How many nodes are there?<BR>\n",
    "[*Hint: there are many ways to answer this question. For example, to count the number of nodes, you may find it helpful to look at nodes() method.*]"
   ]
  },
  {
   "cell_type": "code",
   "execution_count": 10,
   "id": "e19264ff",
   "metadata": {
    "tags": []
   },
   "outputs": [],
   "source": [
    "q2_edges = ...\n",
    "\n",
    "print('num edges: ', q2_edges)"
   ]
  },
  {
   "cell_type": "code",
   "execution_count": 11,
   "id": "917d085a",
   "metadata": {
    "tags": []
   },
   "outputs": [],
   "source": [
    "q2_nodes = ...\n",
    "\n",
    "print('num nodes: ', q2_nodes)"
   ]
  },
  {
   "cell_type": "code",
   "execution_count": null,
   "id": "7c85c997",
   "metadata": {
    "deletable": false,
    "editable": false
   },
   "outputs": [],
   "source": [
    "grader.check(\"q2\")"
   ]
  },
  {
   "cell_type": "markdown",
   "id": "d3e0f8d3",
   "metadata": {},
   "source": [
    "**Drawing graph**"
   ]
  },
  {
   "cell_type": "code",
   "execution_count": 14,
   "id": "d41cd0c1",
   "metadata": {},
   "outputs": [],
   "source": [
    "nx.draw(g, with_labels=True)"
   ]
  },
  {
   "cell_type": "markdown",
   "id": "3e689f47",
   "metadata": {},
   "source": [
    "In order to illustrate a few important concepts, it will be helpful to first investigate a small subset of the network that we just read in.\n",
    "\n",
    "Remember that a network can be represented mathematically as a `graph`. (Note: this is different concept from a plot, or a graphical display of data, which can also be called a graph.) A subset of a graph is called a `subgraph`."
   ]
  },
  {
   "cell_type": "markdown",
   "id": "e22199f7",
   "metadata": {},
   "source": [
    "The `subgraph` function enables us to create a subgraph from a specific set of node ids:"
   ]
  },
  {
   "cell_type": "code",
   "execution_count": 15,
   "id": "abecb467",
   "metadata": {},
   "outputs": [],
   "source": [
    "g_subgraph = nx.subgraph(g, [3, 6, 29, 34, 40])"
   ]
  },
  {
   "cell_type": "markdown",
   "id": "d3200e02",
   "metadata": {},
   "source": [
    "We can get a drawing of this subgraph using the `draw` function:"
   ]
  },
  {
   "cell_type": "code",
   "execution_count": 16,
   "id": "d91d1ff6",
   "metadata": {},
   "outputs": [],
   "source": [
    "nx.draw(g_subgraph, with_labels=True)"
   ]
  },
  {
   "cell_type": "markdown",
   "id": "d3c09a4c",
   "metadata": {},
   "source": [
    "We will discuss drawing networks in more detail below."
   ]
  },
  {
   "cell_type": "markdown",
   "id": "3126b365",
   "metadata": {},
   "source": [
    "### Other representations of the network"
   ]
  },
  {
   "cell_type": "markdown",
   "id": "079b1d9c",
   "metadata": {},
   "source": [
    "We discussed how there are different ways to represent a network in a computer. The edge list is very practical because many real networks are quite *sparse*, meaning that they have relatively few edges"
   ]
  },
  {
   "cell_type": "markdown",
   "id": "c7199707",
   "metadata": {},
   "source": [
    "The edge list is a particularly convenient way of storing a description of a network in a file (or in memory) when the network is large and sparse.  Another way to store a network is as an *adjacency matrix*. The *adjacency matrix* is not too practical for large networks because the amount of memory it requires increases quickly with the number of nodes in the network. However, the adjacency matrix turns out to be convenient to work with mathematically, so many formal results rely upon it.\n",
    "\n",
    "The adjacency matrix is a matrix -- i.e., it is an array of numbers, like a table. It is square, meaning that it has the same number of rows and columns. These rows and columns are ordered so that each id corresponds to one row and column.\n",
    "\n",
    "Each entry in an adjacency matrix can be located by its coordinates: (row number, column number).  If an entry is 0, it means that there is no edge between the vertices corresponding to the row and column. If an entry is 1, then there is an edge between the vertices corresponding to the row and column. (For those who are curious, [Wikipedia](https://en.wikipedia.org/wiki/Adjacency_matrix) has a discussion of adjacency matrices.)\n",
    "\n",
    "<BR>"
   ]
  },
  {
   "cell_type": "markdown",
   "id": "ea46cfea",
   "metadata": {},
   "source": [
    "Of course, `networkx` will display the edge list and the adjacency matrix representations of the network for you. Call the `edges` method and the `nx.adjacency_matrix` function for subgraph g_subgraph."
   ]
  },
  {
   "cell_type": "code",
   "execution_count": 17,
   "id": "17057690",
   "metadata": {},
   "outputs": [],
   "source": [
    "g_subgraph.edges()"
   ]
  },
  {
   "cell_type": "code",
   "execution_count": 18,
   "id": "095b40a6",
   "metadata": {},
   "outputs": [],
   "source": [
    "nx.adjacency_matrix(g_subgraph)"
   ]
  },
  {
   "cell_type": "markdown",
   "id": "ae1c5107",
   "metadata": {},
   "source": [
    "In order to actually show the contents of the adjacency matrix (since we know, in this case, that it's not too big), we can use the `todense` method:"
   ]
  },
  {
   "cell_type": "code",
   "execution_count": 19,
   "id": "65ded298",
   "metadata": {},
   "outputs": [],
   "source": [
    "nx.adjacency_matrix(g_subgraph).todense()"
   ]
  },
  {
   "cell_type": "markdown",
   "id": "46add193",
   "metadata": {},
   "source": [
    "There's the matrix -- but, it's a bit hard to interpret it without knowing which node id corresponds to which row and column. If you look at the [help file](https://networkx.github.io/documentation/networkx-1.9/reference/generated/networkx.linalg.graphmatrix.adjacency_matrix.html) for `adjacency_matrix`, you will see that it says that, by default, it orders the rows/columns according to the results of `nodes()`. So we can interpret the matrix above by calling:"
   ]
  },
  {
   "cell_type": "code",
   "execution_count": 20,
   "id": "6122d52c",
   "metadata": {},
   "outputs": [],
   "source": [
    "g_subgraph.nodes()"
   ]
  },
  {
   "cell_type": "markdown",
   "id": "56243117",
   "metadata": {},
   "source": [
    "Check that the matrix you get makes sense by comparing it to the plot above."
   ]
  },
  {
   "cell_type": "markdown",
   "id": "c3295917",
   "metadata": {},
   "source": [
    "### Plotting a network"
   ]
  },
  {
   "cell_type": "markdown",
   "id": "f003e281",
   "metadata": {},
   "source": [
    "As we saw above, `networkx` will help us draw a network using the `draw` function:"
   ]
  },
  {
   "cell_type": "code",
   "execution_count": 21,
   "id": "4aa3bbb5",
   "metadata": {},
   "outputs": [],
   "source": [
    "nx.draw(g_subgraph)"
   ]
  },
  {
   "cell_type": "markdown",
   "id": "2e045304",
   "metadata": {},
   "source": [
    "Now look at the help files for the `networkx` package and try to find at least three other ways to draw the network.<BR> \n",
    "[*Hint: try typing `nx.draw` and then push Tab; you should see a list with possible completions pop up.*]\n",
    "\n",
    "Each time you make a new plot, read the help file and try to explain how this plot is made. (If you don't understand the help file, that is OK -- some if it goes beyond what we have discussed so far. Just do your best.)"
   ]
  },
  {
   "cell_type": "code",
   "execution_count": 22,
   "id": "4fe6eae1",
   "metadata": {},
   "outputs": [],
   "source": [
    "nx.draw_circular(g_subgraph)"
   ]
  },
  {
   "cell_type": "code",
   "execution_count": 23,
   "id": "34ac8bb1",
   "metadata": {},
   "outputs": [],
   "source": [
    "nx.draw_spectral(g_subgraph)"
   ]
  },
  {
   "cell_type": "code",
   "execution_count": 24,
   "id": "38065dd8",
   "metadata": {},
   "outputs": [],
   "source": [
    "nx.draw_kamada_kawai(g_subgraph)"
   ]
  },
  {
   "cell_type": "markdown",
   "id": "660fd71b",
   "metadata": {},
   "source": [
    "<!-- BEGIN QUESTION -->\n",
    "\n",
    "## Question 3:\n",
    "What do you learn from these graphs about plotting networks?\n",
    "\n",
    "**Don't forget to answer this question!!**"
   ]
  },
  {
   "cell_type": "markdown",
   "id": "1dfee2c0",
   "metadata": {},
   "source": [
    "_Type your answer here, replacing this text._"
   ]
  },
  {
   "cell_type": "markdown",
   "id": "7dcfb54a",
   "metadata": {},
   "source": [
    "<!-- END QUESTION -->\n",
    "\n",
    "### The complete network"
   ]
  },
  {
   "cell_type": "markdown",
   "id": "aa932457",
   "metadata": {
    "collapsed": true
   },
   "source": [
    "Remember that, so far, we have mostly been looking at a subgraph of the complete school network. This was helpful because it is easier to illustrate some network concepts with smaller networks. Now we will turn to the entire network."
   ]
  },
  {
   "cell_type": "markdown",
   "id": "6c06cfb7",
   "metadata": {},
   "source": [
    "Let's use the `draw` function to draw the complete school network again. "
   ]
  },
  {
   "cell_type": "code",
   "execution_count": 25,
   "id": "71b8c518",
   "metadata": {},
   "outputs": [],
   "source": [
    "nx.draw(g)"
   ]
  },
  {
   "cell_type": "markdown",
   "id": "48d35b24",
   "metadata": {},
   "source": [
    "**Practice** Now use the three other drawing methods that you discovered above to produce different plots of this network."
   ]
  },
  {
   "cell_type": "code",
   "execution_count": 26,
   "id": "b9fe3b07",
   "metadata": {},
   "outputs": [],
   "source": [
    "nx.draw_random(g)"
   ]
  },
  {
   "cell_type": "code",
   "execution_count": 27,
   "id": "2c44c5d7",
   "metadata": {},
   "outputs": [],
   "source": [
    "nx.draw_spring(g)"
   ]
  },
  {
   "cell_type": "code",
   "execution_count": 28,
   "id": "a82df67c",
   "metadata": {},
   "outputs": [],
   "source": [
    "nx.draw_shell(g)"
   ]
  },
  {
   "cell_type": "markdown",
   "id": "46008329",
   "metadata": {},
   "source": [
    "<!-- BEGIN QUESTION -->\n",
    "\n",
    "## Question 4:\n",
    "As its name suggests, `draw_random` draws the network with a random layout. You will get a different plot each time you call `draw_random`. Write a simple loop that will call `draw_random` 10 different times, producing 10 different random drawings of this network.<BR>\n",
    "*[HINT: after each plot you draw in your loop, tell matplotlib that you want to start a new plot (rather than adding to the existing one) by calling `plt.figure()`]*"
   ]
  },
  {
   "cell_type": "code",
   "execution_count": 29,
   "id": "10b6a0d4",
   "metadata": {
    "scrolled": true,
    "tags": []
   },
   "outputs": [],
   "source": [
    "for i in range(10):\n",
    "    nx.draw_random(..., with_labels=True)\n",
    "    ..."
   ]
  },
  {
   "cell_type": "markdown",
   "id": "75ea79f1",
   "metadata": {},
   "source": [
    "<!-- END QUESTION -->\n",
    "\n",
    "### Degree plots"
   ]
  },
  {
   "cell_type": "markdown",
   "id": "932f9a16",
   "metadata": {},
   "source": [
    "In our very first class, we brainstormed a few of the quantitative ways that we could try to summarize the structure of a network. One of these ways was to look at the *degrees* in the network. The degree of a node in the network is the number of other nodes that it is connected to."
   ]
  },
  {
   "cell_type": "markdown",
   "id": "b2573946",
   "metadata": {},
   "source": [
    "Now we will investigate the degrees in this school friendship network."
   ]
  },
  {
   "cell_type": "markdown",
   "id": "bd432a49",
   "metadata": {},
   "source": [
    "Think for a second about what the collection of degrees in a network tells us: it tells us, for each node, how connected that node is.  Often, we are interested in understanding how much that varies from node to node. For example, in some networks, it can be the case that every node has exactly the same degree; in other networks, there can be huge differences in the degrees of different nodes."
   ]
  },
  {
   "cell_type": "markdown",
   "id": "28a7d9e2",
   "metadata": {},
   "source": [
    "## Question 5:\n",
    "Create a Table called `g_degrees` that has two columns:\n",
    "* `id` - has the id of each node in the network\n",
    "* `degree` - has the degree of each node in the network\n",
    "\n",
    "*[Hint: the `degree` method returns a dictionary, which is a type of data structure in Python. For our purposes, it is helpful to understand that you can get the entries in a dictionary using the `values` function. It will take a little exploring to figure out exactly how; feel free to work this out together with your neighbor.]*\n",
    "<BR>"
   ]
  },
  {
   "cell_type": "markdown",
   "id": "0b03870f",
   "metadata": {},
   "source": [
    "**Degree Table for g_subgraph**"
   ]
  },
  {
   "cell_type": "code",
   "execution_count": 30,
   "id": "7eb53dba",
   "metadata": {},
   "outputs": [],
   "source": [
    "nx.draw(g_subgraph, with_labels=True)"
   ]
  },
  {
   "cell_type": "code",
   "execution_count": 31,
   "id": "3fd77f3d",
   "metadata": {},
   "outputs": [],
   "source": [
    "## NB: if the following does not evaluate to True, please post on piazza...\n",
    "nx.__version__[0] == '2'"
   ]
  },
  {
   "cell_type": "code",
   "execution_count": 32,
   "id": "f70a5d54",
   "metadata": {},
   "outputs": [],
   "source": [
    "# the function .degree returns the degrees of each node in the network you are working with\n",
    "g_subgraph.degree(g_subgraph.nodes())"
   ]
  },
  {
   "cell_type": "code",
   "execution_count": 33,
   "id": "3786ad7e",
   "metadata": {},
   "outputs": [],
   "source": [
    "# you can use the list function to convert it into the list format that is easier to work with\n",
    "list(g_subgraph.degree(g_subgraph.nodes()))"
   ]
  },
  {
   "cell_type": "code",
   "execution_count": 34,
   "id": "6f2fac25",
   "metadata": {},
   "outputs": [],
   "source": [
    "# then we want to create a table listing all the nodes and their degree levels\n",
    "g_degrees = Table().with_columns([\n",
    "    'id', g_subgraph.nodes(),\n",
    "    'degree', [y for (x,y) in list(g_subgraph.degree(g_subgraph.nodes()))] # use all the y values in the pairs (x,y) in the list\n",
    "])\n",
    "\n",
    "    \n",
    "g_degrees"
   ]
  },
  {
   "cell_type": "markdown",
   "id": "99b49642",
   "metadata": {},
   "source": [
    "**Now create degrees table for the complete graph (with network g) rather than the subgraph:**"
   ]
  },
  {
   "cell_type": "code",
   "execution_count": 35,
   "id": "600fcdea",
   "metadata": {
    "tags": []
   },
   "outputs": [],
   "source": [
    "g_degrees = Table().with_columns([\n",
    "    'id', ...,\n",
    "    'degree', [y for (x,y) in ...]\n",
    "])\n",
    "\n",
    "print(g_degrees)\n"
   ]
  },
  {
   "cell_type": "code",
   "execution_count": null,
   "id": "3fa31bf9",
   "metadata": {
    "deletable": false,
    "editable": false
   },
   "outputs": [],
   "source": [
    "grader.check(\"q5\")"
   ]
  },
  {
   "cell_type": "markdown",
   "id": "7b301fce",
   "metadata": {},
   "source": [
    "Now you can make a histogram of the degrees of the nodes in the network"
   ]
  },
  {
   "cell_type": "code",
   "execution_count": 37,
   "id": "d588624a",
   "metadata": {},
   "outputs": [],
   "source": [
    "g_degrees.hist('degree', bins=np.arange(0, 16, 1))"
   ]
  },
  {
   "cell_type": "markdown",
   "id": "965aee27",
   "metadata": {},
   "source": [
    "### Optional challenge section"
   ]
  },
  {
   "cell_type": "markdown",
   "id": "91f97d84",
   "metadata": {},
   "source": [
    "In this lab, we analyzed the network that is stored in `comm1.dat`. This is just the first network out of the 84 that the Add Health researchers collected. The filenames follow the pattern `comm1.dat`, `comm2.dat`, ..., `comm84.dat`.\n",
    "\n",
    "See if you can write a function that takes the index of a network (from 1 to 84), opens up the corresponding network, and returns a `networkx` object."
   ]
  },
  {
   "cell_type": "code",
   "execution_count": 38,
   "id": "30566849",
   "metadata": {},
   "outputs": [],
   "source": [
    "#import urllib\n",
    "\n",
    "def get_network_from_index(index):\n",
    "    #index=2\n",
    "    \n",
    "    filename=\"comm{}.dat\".format(index)\n",
    "    \n",
    "    #link=\"http://moreno.ss.uci.edu/\"+filename\n",
    "    #print(link)\n",
    "    #if not os.path.exists(filename):\n",
    "        #urllib.request.urlretrieve(link, filename)\n",
    "\n",
    "    edge_file = os.path.join(\"./data\", filename)\n",
    "    \n",
    "    #print(edge_file)\n",
    "    \n",
    "    with open(edge_file, 'r') as f:\n",
    "        edge_lines = f.readlines()\n",
    "\n",
    "    g = nx.parse_edgelist(edge_lines, nodetype=int, data=[('activity_level', float)])\n",
    "    return g"
   ]
  },
  {
   "cell_type": "markdown",
   "id": "611214d9",
   "metadata": {},
   "source": [
    "Use the function you wrote to make a list that contains all 84 networks."
   ]
  },
  {
   "cell_type": "code",
   "execution_count": 39,
   "id": "84102ddb",
   "metadata": {},
   "outputs": [],
   "source": [
    "g_lst=[get_network_from_index(i) for i in range(1,85)]\n",
    "len(g_lst)"
   ]
  },
  {
   "cell_type": "markdown",
   "id": "b63f2e08",
   "metadata": {},
   "source": [
    "Now use a loop to make a plot of the node degrees for each network."
   ]
  },
  {
   "cell_type": "code",
   "execution_count": 40,
   "id": "c0c817f8",
   "metadata": {},
   "outputs": [],
   "source": [
    "for g in g_lst:\n",
    "    #if nx.__version__.startswith('2'):\n",
    "    \n",
    "    g_degrees_tmp = Table().with_columns([\n",
    "        'id', g.nodes(),\n",
    "        'degree', [y for (x,y) in list(g.degree(g.nodes()))]\n",
    "    ])\n",
    "    \n",
    "    #else:\n",
    "        #g_degrees = Table().with_columns([\n",
    "            #'id', g.nodes(),\n",
    "            #'degree', g.degree(g.nodes()).values()\n",
    "        #])\n",
    "    \n",
    "    g_degrees_tmp.hist('degree', bins=np.arange(0, 16, 1))\n",
    "    \n",
    "    plt.figure()"
   ]
  },
  {
   "cell_type": "markdown",
   "id": "0e405308",
   "metadata": {
    "collapsed": true
   },
   "source": [
    "# Lab 2 (Part 2/2)"
   ]
  },
  {
   "cell_type": "markdown",
   "id": "1d1ae882",
   "metadata": {},
   "source": [
    "We are continuing our study of complete network data from the [Add Health project](http://www.cpc.unc.edu/projects/addhealth).\n",
    "\n",
    "In part 1, we started using the `networkx` package. We\n",
    "\n",
    "* learned how to read in a complete-network dataset\n",
    "* learned how to take a subgraph from a complete network\n",
    "* learned how to plot a network a few different ways\n",
    "* ... but we also discovered that plotting networks is only moderately useful for understanding them\n",
    "\n",
    "We're going to continue working with complete network data. First, we're going to learn about a few different ways to quantitatively describe various aspects of network structure. Then we're going to actually compute those metrics for all of the Add Health friendship networks. This will give us a chance to practice writing functions and using iteration."
   ]
  },
  {
   "cell_type": "markdown",
   "id": "38c2a3d9",
   "metadata": {},
   "source": [
    "## Quantifying network structure"
   ]
  },
  {
   "cell_type": "markdown",
   "id": "83cb456b",
   "metadata": {},
   "source": [
    "There are many different ways of quantifying network structure. We're going to start by discussing different ways of measuring *network connectivity*. Roughly speaking, a network has a high level of connectivity when any node can reach another node by following a small number of network edges. In the case of the Add Health student friendship networks, a highly connected network could arise when students are friends with many of their fellow students. A poorly connected network, on the other hand, could arise when students are segregated into distinct groups that don't interact much with one another."
   ]
  },
  {
   "cell_type": "markdown",
   "id": "373fdb82",
   "metadata": {},
   "source": [
    "<img src=\"example_network.png\" style=\"width: 60%;\">"
   ]
  },
  {
   "cell_type": "markdown",
   "id": "b4c0679e",
   "metadata": {},
   "source": [
    "Some of the ** basic metrics** of this network are as follows"
   ]
  },
  {
   "cell_type": "markdown",
   "id": "d17feb00",
   "metadata": {},
   "source": [
    "\n",
    "\n",
    "* number of nodes -  8\n",
    "* number of edges -  5\n",
    "* average degree -  avg(1 + 1 + 3 + 1 + 1 + 1 + 1 + 1) = 10/8\n",
    "* number of connected components -  3\n",
    "\n"
   ]
  },
  {
   "cell_type": "markdown",
   "id": "255797cd",
   "metadata": {},
   "source": [
    "And the **shortest distance** between each pair of nodes is as follows"
   ]
  },
  {
   "cell_type": "markdown",
   "id": "feaeb454",
   "metadata": {},
   "source": [
    "\n",
    "\n",
    "|             |  node 1 | node 2 |  node 3 |  node 4 |\n",
    "|   :----:    |  :---:  |  :---: |  :---:  |  :---:  |\n",
    "|   node 1    |    -    |    2   |    1    |    2    |\n",
    "|   node 2    |    2    |    -   |    1    |    2    |\n",
    "|   node 3    |    1    |    1   |    -    |    1    |\n",
    "|   node 4    |    2    |    2   |    1    |    -    |"
   ]
  },
  {
   "cell_type": "markdown",
   "id": "fb369985",
   "metadata": {},
   "source": [
    "Furthermore, some additional **hand-calculated metrics** of the **largest component** of the graph are as follows."
   ]
  },
  {
   "cell_type": "markdown",
   "id": "26ccf845",
   "metadata": {},
   "source": [
    "\n",
    "\n",
    "* average path length - 9 / 6\n",
    "* diameter - 2\n",
    "* radius - 1\n",
    "* fraction of nodes in periphery - 3 / 4\n",
    "* fraction of nodes in core - 1 / 4"
   ]
  },
  {
   "cell_type": "markdown",
   "id": "50ba1420",
   "metadata": {},
   "source": [
    "### Calculating network metrics with `networkx` (with your neighbor)"
   ]
  },
  {
   "cell_type": "markdown",
   "id": "c252ea34",
   "metadata": {},
   "source": [
    "Now we are going to use the `networkx` package to check the calculations we made by hand."
   ]
  },
  {
   "cell_type": "code",
   "execution_count": 41,
   "id": "94f35bc1",
   "metadata": {},
   "outputs": [],
   "source": [
    "ex_network = nx.Graph([(1,3), (2,3), (3,4), (5,6), (7,8)])"
   ]
  },
  {
   "cell_type": "markdown",
   "id": "7a03f025",
   "metadata": {},
   "source": [
    "**Practice** Check that your network is correct by drawing it and comparing it to the image above."
   ]
  },
  {
   "cell_type": "code",
   "execution_count": 42,
   "id": "bce022fb",
   "metadata": {},
   "outputs": [],
   "source": [
    "nx.draw(ex_network, with_labels=True)"
   ]
  },
  {
   "cell_type": "markdown",
   "id": "cc0f028c",
   "metadata": {},
   "source": [
    "The next few questions ask you to use the following functions to check your calculations:\n",
    "\n",
    "* `number_of_nodes()`\n",
    "* `number_of_edges()`\n",
    "* `number_connected_components()`"
   ]
  },
  {
   "cell_type": "markdown",
   "id": "54058f10",
   "metadata": {},
   "source": [
    "**Practice** Check the number of nodes"
   ]
  },
  {
   "cell_type": "code",
   "execution_count": 43,
   "id": "3a73400d",
   "metadata": {},
   "outputs": [],
   "source": [
    "ex_network.number_of_nodes()"
   ]
  },
  {
   "cell_type": "markdown",
   "id": "fa2f4dd9",
   "metadata": {},
   "source": [
    "**Practice** Check the number of edges"
   ]
  },
  {
   "cell_type": "code",
   "execution_count": 44,
   "id": "5611df07",
   "metadata": {},
   "outputs": [],
   "source": [
    "ex_network.number_of_edges()"
   ]
  },
  {
   "cell_type": "markdown",
   "id": "4998dae0",
   "metadata": {},
   "source": [
    "## Question 6: \n",
    "\n",
    "What is the average degree of this network?"
   ]
  },
  {
   "cell_type": "code",
   "execution_count": 45,
   "id": "1ca0e346",
   "metadata": {
    "tags": []
   },
   "outputs": [],
   "source": [
    "q6 = ..."
   ]
  },
  {
   "cell_type": "code",
   "execution_count": null,
   "id": "b5b1f358",
   "metadata": {
    "deletable": false,
    "editable": false
   },
   "outputs": [],
   "source": [
    "grader.check(\"q6\")"
   ]
  },
  {
   "cell_type": "markdown",
   "id": "bf57a017",
   "metadata": {},
   "source": [
    "**Practice** Check the number of connected components"
   ]
  },
  {
   "cell_type": "code",
   "execution_count": 47,
   "id": "6cd4657d",
   "metadata": {},
   "outputs": [],
   "source": [
    "nx.number_connected_components(ex_network)"
   ]
  },
  {
   "cell_type": "markdown",
   "id": "0d0cf71f",
   "metadata": {},
   "source": [
    "Several of the metrics we discussed only make sense when the entire network is one connected component. We will take the largest connected component of the example network (as we did when we made the calculations by hand above)."
   ]
  },
  {
   "cell_type": "markdown",
   "id": "4643dd2b",
   "metadata": {},
   "source": [
    "Take the largest connected component of the example network. (To do this, look at the help file for the `connected_components` function; the example in the help file shows how to do this)"
   ]
  },
  {
   "cell_type": "code",
   "execution_count": 48,
   "id": "57671dd8",
   "metadata": {},
   "outputs": [],
   "source": [
    "ex_network_lc = max((ex_network.subgraph(c) for c in nx.connected_components(ex_network)), key=len)"
   ]
  },
  {
   "cell_type": "markdown",
   "id": "64077d04",
   "metadata": {},
   "source": [
    "Check that this worked correctly by drawing `ex_network_lc`"
   ]
  },
  {
   "cell_type": "code",
   "execution_count": 49,
   "id": "e14620c2",
   "metadata": {},
   "outputs": [],
   "source": [
    "nx.draw(ex_network_lc, with_labels=True)"
   ]
  },
  {
   "cell_type": "markdown",
   "id": "d1667f07",
   "metadata": {},
   "source": [
    "The next few practices ask you to use the following functions to check your calculations:\n",
    "\n",
    "* `average_shortest_path_length()`\n",
    "* `radius()`\n",
    "* `diameter()`\n",
    "* `periphery()`\n",
    "* `center()`"
   ]
  },
  {
   "cell_type": "markdown",
   "id": "4f55e30c",
   "metadata": {},
   "source": [
    "**Practice** Check the average shortest path length"
   ]
  },
  {
   "cell_type": "code",
   "execution_count": 50,
   "id": "35890300",
   "metadata": {},
   "outputs": [],
   "source": [
    "nx.average_shortest_path_length(ex_network_lc)"
   ]
  },
  {
   "cell_type": "markdown",
   "id": "7874c568",
   "metadata": {},
   "source": [
    "**Practice** Check the radius"
   ]
  },
  {
   "cell_type": "code",
   "execution_count": 51,
   "id": "cdba136f",
   "metadata": {},
   "outputs": [],
   "source": [
    "nx.radius(ex_network_lc)"
   ]
  },
  {
   "cell_type": "markdown",
   "id": "884dcf2b",
   "metadata": {},
   "source": [
    "**Practice** Check the diameter"
   ]
  },
  {
   "cell_type": "code",
   "execution_count": 52,
   "id": "b902c863",
   "metadata": {},
   "outputs": [],
   "source": [
    "nx.diameter(ex_network_lc)"
   ]
  },
  {
   "cell_type": "markdown",
   "id": "830cd8eb",
   "metadata": {},
   "source": [
    "**Practice** Check the fraction of nodes in the periphery"
   ]
  },
  {
   "cell_type": "code",
   "execution_count": 53,
   "id": "b1ca89b6",
   "metadata": {},
   "outputs": [],
   "source": [
    "len(nx.periphery(ex_network_lc)) / ex_network_lc.number_of_nodes()"
   ]
  },
  {
   "cell_type": "code",
   "execution_count": 54,
   "id": "c3ebae0c",
   "metadata": {},
   "outputs": [],
   "source": [
    "nx.periphery(ex_network_lc)"
   ]
  },
  {
   "cell_type": "markdown",
   "id": "b481a31c",
   "metadata": {},
   "source": [
    "**Practice** Check the fraction of nodes in the center"
   ]
  },
  {
   "cell_type": "code",
   "execution_count": 55,
   "id": "b9f87593",
   "metadata": {},
   "outputs": [],
   "source": [
    "len(nx.center(ex_network_lc)) / ex_network_lc.number_of_nodes()"
   ]
  },
  {
   "cell_type": "markdown",
   "id": "9e9885be",
   "metadata": {},
   "source": [
    "### Opening up a school network"
   ]
  },
  {
   "cell_type": "markdown",
   "id": "b4228de2",
   "metadata": {},
   "source": [
    "Recall that the Add Health study sampled schools in many different communities. In part 1, we looked at the network from one of those communities. Now, we're going to look at *all* of the communities. By looking at many different friendship networks, we can hope to better understand the structure of student friendship networks, since we will be able to use evidence from many different networks, instead of from a single example. At the same time, we will try to better understand the different metrics of network structure and how they relate to each other."
   ]
  },
  {
   "cell_type": "markdown",
   "id": "6815efcc",
   "metadata": {},
   "source": [
    "In part 1, we had to go through a couple of steps to read a file in and open up a single network. These steps would make a great function, since we will need to go through them each time we want to open 84 different files.\n",
    "\n",
    "Take a look at this function, which you will use in a moment:"
   ]
  },
  {
   "cell_type": "code",
   "execution_count": 56,
   "id": "b6299b1d",
   "metadata": {},
   "outputs": [],
   "source": [
    "def read_add_health_network(network_id):\n",
    "    \"\"\"\n",
    "    network_id : integer from 1 to 84\n",
    "    \n",
    "    read in the Add Health network corresponding to the given id number and\n",
    "    return it as an undirected networkx object\n",
    "    \"\"\"\n",
    "\n",
    "    # this file was downloaded from\n",
    "    # http://moreno.ss.uci.edu/data.html#adhealth\n",
    "    edge_file = os.path.join(\"data\", \"comm\" + str(network_id) + \".dat\")\n",
    "    with open(edge_file, 'r') as f:\n",
    "        edge_lines = f.readlines()\n",
    "        \n",
    "    network = nx.parse_edgelist(edge_lines, nodetype=int, data=[('activity_level', float)])\n",
    "    \n",
    "    # note that we call the to_undirected method to ensure we get an undirected network\n",
    "    return(network.to_undirected())"
   ]
  },
  {
   "cell_type": "markdown",
   "id": "c66bd2fc",
   "metadata": {},
   "source": [
    "Now let's use this function to actually read in all 84 of the Add Health school networks:\n",
    "\n",
    "*This takes a couple of secs*"
   ]
  },
  {
   "cell_type": "code",
   "execution_count": 57,
   "id": "67e47fc7",
   "metadata": {},
   "outputs": [],
   "source": [
    "number_add_health_networks = 84\n",
    "add_health_networks = [read_add_health_network(x) for x in range(1,number_add_health_networks+1)]"
   ]
  },
  {
   "cell_type": "markdown",
   "id": "6c099932",
   "metadata": {},
   "source": [
    "Done! Look at the contents of `add_health_networks` to better understand what it is."
   ]
  },
  {
   "cell_type": "markdown",
   "id": "535d9ccf",
   "metadata": {},
   "source": [
    "### Calculating network statistics for all of the Add Health communities"
   ]
  },
  {
   "cell_type": "markdown",
   "id": "e55b840a",
   "metadata": {},
   "source": [
    "**Practice** Let's start by making a dataset that has the number of nodes in each of the 84 Add Health community networks."
   ]
  },
  {
   "cell_type": "code",
   "execution_count": 58,
   "id": "99e89976",
   "metadata": {},
   "outputs": [],
   "source": [
    "num_nodes = make_array()\n",
    "\n",
    "for g in add_health_networks:\n",
    "    num_nodes = np.append(num_nodes, g.number_of_nodes())\n",
    "\n",
    "add_health_firsttry = Table().with_columns([\n",
    "     'id', np.arange(1, number_add_health_networks+1),\n",
    "     'num_nodes', num_nodes,\n",
    "    ])\n",
    "\n",
    "add_health_firsttry"
   ]
  },
  {
   "cell_type": "markdown",
   "id": "d60b42f8",
   "metadata": {},
   "source": [
    "## Question 7:\n",
    "\n",
    "Now, following the pattern above, make a more complete dataset called `add_health` which has columns\n",
    "\n",
    "* `id`\n",
    "* `num_nodes`\n",
    "* `num_edges`\n",
    "* `avg_degree`\n",
    "* `num_components`"
   ]
  },
  {
   "cell_type": "code",
   "execution_count": 59,
   "id": "b58edd8e",
   "metadata": {
    "tags": []
   },
   "outputs": [],
   "source": [
    "num_nodes = ...\n",
    "num_edges = ...\n",
    "...\n",
    "\n",
    "\n",
    "for g in add_health_networks:\n",
    "    num_nodes = np.append(num_nodes, g.number_of_nodes())\n",
    "    num_edges = ...\n",
    "    avg_degree = np.append(avg_degree, ...)\n",
    "    num_components = np.append(num_components, nx.number_connected_components(g))\n",
    "\n",
    "add_health = Table().with_columns([\n",
    "     'id', np.arange(1, number_add_health_networks+1),\n",
    "     'num_nodes', num_nodes,\n",
    "     'num_edges', num_edges,\n",
    "     'avg_degree', avg_degree,\n",
    "     'num_components', num_components,\n",
    "    ])\n",
    "    \n",
    "q7 = add_health.num_rows"
   ]
  },
  {
   "cell_type": "code",
   "execution_count": null,
   "id": "24c056c2",
   "metadata": {
    "deletable": false,
    "editable": false
   },
   "outputs": [],
   "source": [
    "grader.check(\"q7\")"
   ]
  },
  {
   "cell_type": "markdown",
   "id": "036b8dac",
   "metadata": {},
   "source": [
    "Let's take a look at the dataset that we just created:"
   ]
  },
  {
   "cell_type": "code",
   "execution_count": 61,
   "id": "9b98f521",
   "metadata": {},
   "outputs": [],
   "source": [
    "add_health"
   ]
  },
  {
   "cell_type": "markdown",
   "id": "53d91a26",
   "metadata": {},
   "source": [
    "<!-- BEGIN QUESTION -->\n",
    "\n",
    "## Question 8: \n",
    "\n",
    "Make a histogram that shows the distribution of each column (except for `id`)."
   ]
  },
  {
   "cell_type": "code",
   "execution_count": 62,
   "id": "d8a0f7df",
   "metadata": {
    "tags": []
   },
   "outputs": [],
   "source": [
    "..."
   ]
  },
  {
   "cell_type": "code",
   "execution_count": 63,
   "id": "edb194b4",
   "metadata": {
    "tags": []
   },
   "outputs": [],
   "source": [
    "..."
   ]
  },
  {
   "cell_type": "code",
   "execution_count": 64,
   "id": "980ebd1b",
   "metadata": {
    "tags": []
   },
   "outputs": [],
   "source": [
    "..."
   ]
  },
  {
   "cell_type": "code",
   "execution_count": 65,
   "id": "e0da7d71",
   "metadata": {
    "tags": []
   },
   "outputs": [],
   "source": [
    "..."
   ]
  },
  {
   "cell_type": "markdown",
   "id": "1820c53a",
   "metadata": {},
   "source": [
    "<!-- END QUESTION -->\n",
    "\n",
    "### Relationship between metrics of network structure"
   ]
  },
  {
   "cell_type": "markdown",
   "id": "068b59a9",
   "metadata": {},
   "source": [
    "Remember that the goal of these different metrics is to try to find a way to summarize the structure of a network.  It turns out that this is too hard a task to have a single solution: the best way to summarize or describe a network can depend a lot on what you are interested in understanding about the network. For example, one type of summary might tell you about what networks are at high or low risk of quickly spreading an infectious disease and a different type of network metric might tell you about how hierarchical or egalitarian relationships between network members are.\n",
    "\n",
    "It would be very helpful to understand how these different metrics are related to each other. For example, if two metrics always increase or decrease together, that might tell us that they are capturing the same underlying aspect of network structure. On the other hand, if two metrics are totally unrelated to one another, then that might tell us that each one captures an independent aspect of network structure.\n",
    "\n",
    "One way to investigate this topic would be to use math to try to derive results that relate the different network metrics to each other. That's a great thing to do (and there has been a lot of work on this topic). But since we're learning how to analyze data, we're going to take a different approach: we're going to use our empirical dataset to see how these metrics behave in a set of real-world friendship networks."
   ]
  },
  {
   "cell_type": "markdown",
   "id": "aa12a02e",
   "metadata": {},
   "source": [
    "## Question 9:\n",
    "\n",
    "Make a scatterplot that investigates the relationship between each of the four pairs of metrics in the previous question. For each scatter plot, briefly comment on whether it suggests that your prediction is correct or not. (We're not doing any formal tests here, so this evidence will only be suggestive.)"
   ]
  },
  {
   "cell_type": "markdown",
   "id": "9569608d",
   "metadata": {},
   "source": [
    "_Type your answer here, replacing this text._"
   ]
  },
  {
   "cell_type": "code",
   "execution_count": 66,
   "id": "39792e00",
   "metadata": {
    "tags": []
   },
   "outputs": [],
   "source": [
    "..."
   ]
  },
  {
   "cell_type": "code",
   "execution_count": 67,
   "id": "6fceb922",
   "metadata": {
    "tags": []
   },
   "outputs": [],
   "source": [
    "..."
   ]
  },
  {
   "cell_type": "code",
   "execution_count": 68,
   "id": "09ee68f5",
   "metadata": {
    "tags": []
   },
   "outputs": [],
   "source": [
    "..."
   ]
  },
  {
   "cell_type": "code",
   "execution_count": 69,
   "id": "986da37a",
   "metadata": {
    "tags": []
   },
   "outputs": [],
   "source": [
    "..."
   ]
  },
  {
   "cell_type": "markdown",
   "id": "07800327",
   "metadata": {
    "deletable": false,
    "editable": false
   },
   "source": [
    "---\n",
    "\n",
    "To double-check your work, the cell below will rerun all of the autograder tests."
   ]
  },
  {
   "cell_type": "code",
   "execution_count": null,
   "id": "59819246",
   "metadata": {
    "deletable": false,
    "editable": false
   },
   "outputs": [],
   "source": [
    "grader.check_all()"
   ]
  },
  {
   "cell_type": "markdown",
   "id": "02de4d7d",
   "metadata": {
    "deletable": false,
    "editable": false
   },
   "source": [
    "## Submission\n",
    "\n",
    "Make sure you have run all cells in your notebook in order before running the cell below, so that all images/graphs appear in the output. The cell below will generate a zip file for you to submit. **Please save before exporting!**\n",
    "\n",
    "Please upload the .zip file to Gradescope by Monday at 8pm."
   ]
  },
  {
   "cell_type": "code",
   "execution_count": null,
   "id": "8706ac42",
   "metadata": {
    "deletable": false,
    "editable": false
   },
   "outputs": [],
   "source": [
    "# Save your notebook first, then run this cell to export your submission.\n",
    "grader.export()"
   ]
  },
  {
   "cell_type": "markdown",
   "id": "5716af75",
   "metadata": {},
   "source": [
    " "
   ]
  }
 ],
 "metadata": {
  "kernelspec": {
   "display_name": "Python 3",
   "language": "python",
   "name": "python3"
  },
  "language_info": {
   "codemirror_mode": {
    "name": "ipython",
    "version": 3
   },
   "file_extension": ".py",
   "mimetype": "text/x-python",
   "name": "python",
   "nbconvert_exporter": "python",
   "pygments_lexer": "ipython3",
   "version": "3.7.11"
  },
  "otter": {
   "tests": {
    "q2": {
     "name": "q2",
     "points": 1,
     "suites": [
      {
       "cases": [
        {
         "code": ">>> np.isclose(q2_edges, 220.0)\nTrue",
         "hidden": false,
         "locked": false
        },
        {
         "code": ">>> np.isclose(q2_nodes, 69.0)\nTrue",
         "hidden": false,
         "locked": false
        }
       ],
       "scored": true,
       "setup": "",
       "teardown": "",
       "type": "doctest"
      }
     ]
    },
    "q5": {
     "name": "q5",
     "points": 1,
     "suites": [
      {
       "cases": [
        {
         "code": ">>> round(g_degrees.num_rows,1) == 69.0\nTrue",
         "hidden": false,
         "locked": false
        }
       ],
       "scored": true,
       "setup": "",
       "teardown": "",
       "type": "doctest"
      }
     ]
    },
    "q6": {
     "name": "q6",
     "points": 1,
     "suites": [
      {
       "cases": [
        {
         "code": ">>> np.isclose(q6, 1.25)\nTrue",
         "hidden": false,
         "locked": false
        }
       ],
       "scored": true,
       "setup": "",
       "teardown": "",
       "type": "doctest"
      }
     ]
    },
    "q7": {
     "name": "q7",
     "points": 1,
     "suites": [
      {
       "cases": [
        {
         "code": ">>> np.isclose(q7, 84.0)\nTrue",
         "hidden": false,
         "locked": false
        }
       ],
       "scored": true,
       "setup": "",
       "teardown": "",
       "type": "doctest"
      }
     ]
    }
   }
  }
 },
 "nbformat": 4,
 "nbformat_minor": 5
}
